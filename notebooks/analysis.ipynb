import pandas as pd

# 1. Load dataset
df = pd.read_csv("data.csv")

# 2. Filter only subjects included in GWA
gwa_df = df[df['include_in_gwa'] == "Yes"]

# 3. Compute GWA (weighted average)
gwa = (gwa_df['final_grade'] * gwa_df['units']).sum() / gwa_df['units'].sum()
print("📊 Your current GWA is:", round(gwa, 2))

# 4. Check Latin honors eligibility
def check_honors(df, gwa):
    min_grade = df['final_grade'].min()

    if gwa >= 95 and min_grade >= 93:
        return "🏅 Eligible for Summa Cum Laude"
    elif gwa >= 92 and min_grade >= 89:
        return "🥈 Eligible for Magna Cum Laude"
    elif gwa >= 90 and min_grade >= 85:
        return "🥉 Eligible for Cum Laude"
    elif gwa >= 90 and (df['final_grade'] < 80).sum() <= 1:
        return "✨ Eligible for Academic Distinction"
    else:
        return "❌ Not yet eligible for Latin Honors"

print(check_honors(gwa_df, gwa))
